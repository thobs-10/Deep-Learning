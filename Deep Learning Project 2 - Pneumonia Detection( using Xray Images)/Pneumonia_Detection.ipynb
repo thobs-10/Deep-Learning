{
  "cells": [
    {
      "cell_type": "markdown",
      "id": "2bf3a64d",
      "metadata": {
        "id": "2bf3a64d"
      },
      "source": [
        "### Import Libraries"
      ]
    },
    {
      "cell_type": "code",
      "execution_count": 1,
      "id": "9da6868f",
      "metadata": {
        "id": "9da6868f"
      },
      "outputs": [],
      "source": [
        "import glob\n",
        "import os\n",
        "import numpy as np\n",
        "import pandas as pd\n",
        "import matplotlib.pyplot as plt\n",
        "%matplotlib inline\n",
        "\n",
        "import tensorflow as tf\n",
        "from tensorflow import keras\n",
        "from tensorflow.keras.applications import VGG16\n",
        "from tensorflow.keras.preprocessing.image import ImageDataGenerator\n",
        "from tensorflow.keras.layers import Dense"
      ]
    },
    {
      "cell_type": "code",
      "source": [
        "import tensorflow as tf\n",
        "tf.test.gpu_device_name()"
      ],
      "metadata": {
        "colab": {
          "base_uri": "https://localhost:8080/",
          "height": 35
        },
        "id": "KhEK6tgCGRpW",
        "outputId": "6e33cff7-0c01-41bd-84d2-5be97a5fa5be"
      },
      "id": "KhEK6tgCGRpW",
      "execution_count": 2,
      "outputs": [
        {
          "output_type": "execute_result",
          "data": {
            "application/vnd.google.colaboratory.intrinsic+json": {
              "type": "string"
            },
            "text/plain": [
              "'/device:GPU:0'"
            ]
          },
          "metadata": {},
          "execution_count": 2
        }
      ]
    },
    {
      "cell_type": "code",
      "source": [
        "\n",
        "from google.colab import files\n",
        "files.upload()"
      ],
      "metadata": {
        "colab": {
          "base_uri": "https://localhost:8080/",
          "height": 91,
          "resources": {
            "http://localhost:8080/nbextensions/google.colab/files.js": {
              "data": "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",
              "ok": true,
              "headers": [
                [
                  "content-type",
                  "application/javascript"
                ]
              ],
              "status": 200,
              "status_text": ""
            }
          }
        },
        "id": "zAnjRBc-XyW3",
        "outputId": "270321c2-d87d-4089-9460-e63d25e1f4a3"
      },
      "id": "zAnjRBc-XyW3",
      "execution_count": 5,
      "outputs": [
        {
          "output_type": "display_data",
          "data": {
            "text/html": [
              "\n",
              "     <input type=\"file\" id=\"files-47dad0a2-2639-451c-b40b-236a6b1f913a\" name=\"files[]\" multiple disabled\n",
              "        style=\"border:none\" />\n",
              "     <output id=\"result-47dad0a2-2639-451c-b40b-236a6b1f913a\">\n",
              "      Upload widget is only available when the cell has been executed in the\n",
              "      current browser session. Please rerun this cell to enable.\n",
              "      </output>\n",
              "      <script src=\"/nbextensions/google.colab/files.js\"></script> "
            ],
            "text/plain": [
              "<IPython.core.display.HTML object>"
            ]
          },
          "metadata": {}
        },
        {
          "output_type": "stream",
          "name": "stdout",
          "text": [
            "Saving kaggle.json to kaggle.json\n"
          ]
        },
        {
          "output_type": "execute_result",
          "data": {
            "text/plain": [
              "{'kaggle.json': b'{\"username\":\"thobelasixpence\",\"key\":\"f3a3b4df5c89076876032b54ad5650c6\"}'}"
            ]
          },
          "metadata": {},
          "execution_count": 5
        }
      ]
    },
    {
      "cell_type": "code",
      "source": [
        "# create a kaggle directory\n",
        "!mkdir -p ~/.kaggle\n",
        "!cp kaggle.json ~/.kaggle/"
      ],
      "metadata": {
        "id": "siPlDyRmKUis"
      },
      "id": "siPlDyRmKUis",
      "execution_count": 6,
      "outputs": []
    },
    {
      "cell_type": "code",
      "source": [
        "# permission for json files to act\n",
        "!chmod 600 ~/.kaggle/kaggle.json"
      ],
      "metadata": {
        "id": "UEYOBE_JKVQL"
      },
      "id": "UEYOBE_JKVQL",
      "execution_count": 7,
      "outputs": []
    },
    {
      "cell_type": "code",
      "source": [
        "!kaggle datasets download -d paultimothymooney/chest-xray-pneumonia"
      ],
      "metadata": {
        "colab": {
          "base_uri": "https://localhost:8080/"
        },
        "id": "cyIyi6o9KfC-",
        "outputId": "d60da663-b65e-401f-8380-aca354f13d9d"
      },
      "id": "cyIyi6o9KfC-",
      "execution_count": 8,
      "outputs": [
        {
          "output_type": "stream",
          "name": "stdout",
          "text": [
            "Downloading chest-xray-pneumonia.zip to /content\n",
            "100% 2.29G/2.29G [00:13<00:00, 180MB/s]\n",
            "100% 2.29G/2.29G [00:13<00:00, 184MB/s]\n"
          ]
        }
      ]
    },
    {
      "cell_type": "code",
      "source": [
        "!pip install zip_files"
      ],
      "metadata": {
        "colab": {
          "base_uri": "https://localhost:8080/"
        },
        "id": "fYEc6R45KVb8",
        "outputId": "3674fc80-ed7d-491b-d017-1e46af3cd71e"
      },
      "id": "fYEc6R45KVb8",
      "execution_count": 9,
      "outputs": [
        {
          "output_type": "stream",
          "name": "stdout",
          "text": [
            "Collecting zip_files\n",
            "  Downloading zip_files-0.4.1-py3-none-any.whl (12 kB)\n",
            "Requirement already satisfied: click in /usr/local/lib/python3.7/dist-packages (from zip_files) (7.1.2)\n",
            "Installing collected packages: zip-files\n",
            "Successfully installed zip-files-0.4.1\n"
          ]
        }
      ]
    },
    {
      "cell_type": "code",
      "source": [
        "from zipfile import ZipFile\n",
        "\n",
        "file_name=\"chest-xray-pneumonia.zip\"\n",
        "with ZipFile(file_name,'r') as zip:\n",
        "      zip.extractall()\n",
        "      print('Done')"
      ],
      "metadata": {
        "colab": {
          "base_uri": "https://localhost:8080/"
        },
        "id": "1gOdJ9NzKVqm",
        "outputId": "237e14a6-b7ee-434f-eb67-0120572135c5"
      },
      "id": "1gOdJ9NzKVqm",
      "execution_count": 10,
      "outputs": [
        {
          "output_type": "stream",
          "name": "stdout",
          "text": [
            "Done\n"
          ]
        }
      ]
    },
    {
      "cell_type": "markdown",
      "id": "c0086f1d",
      "metadata": {
        "id": "c0086f1d"
      },
      "source": [
        "### Dataset Directory"
      ]
    },
    {
      "cell_type": "code",
      "execution_count": 11,
      "id": "3c08fb9d",
      "metadata": {
        "id": "3c08fb9d"
      },
      "outputs": [],
      "source": [
        "data_directory = '/content/chest_xray'"
      ]
    },
    {
      "cell_type": "code",
      "source": [
        ""
      ],
      "metadata": {
        "id": "7M-pIfrCMGl_"
      },
      "id": "7M-pIfrCMGl_",
      "execution_count": null,
      "outputs": []
    },
    {
      "cell_type": "code",
      "execution_count": 12,
      "id": "0e6f648e",
      "metadata": {
        "id": "0e6f648e"
      },
      "outputs": [],
      "source": [
        "dataset = r'/content/chest_xray/train'"
      ]
    },
    {
      "cell_type": "code",
      "execution_count": 13,
      "id": "7bebbd18",
      "metadata": {
        "id": "7bebbd18"
      },
      "outputs": [],
      "source": [
        "# find the training path directory for images\n",
        "train_dir = os.path.join(data_directory, \"train\") # get the path of training images in train folder\n",
        "\n",
        "# find the test path directory for images\n",
        "test_dir = os.path.join(data_directory, \"test\")# get the path of test images in test folder\n",
        "\n",
        "# find the validdation path directory for images\n",
        "val_dir = os.path.join(data_directory, \"val\")# get the path of validation images in val folder"
      ]
    },
    {
      "cell_type": "markdown",
      "id": "2159cff0",
      "metadata": {
        "id": "2159cff0"
      },
      "source": [
        "### Classes of Images"
      ]
    },
    {
      "cell_type": "code",
      "execution_count": 14,
      "id": "8a9a3b81",
      "metadata": {
        "id": "8a9a3b81"
      },
      "outputs": [],
      "source": [
        "''' PNEUMONIA images '''\n",
        "pneumonia_train_imgs = glob.glob(train_dir + \"/PNEUMONIA/*.jpeg\")\n",
        "''' NORMAL  images '''\n",
        "normal_train_imgs = glob.glob(train_dir + \"/NORMAL/*.jpeg\")"
      ]
    },
    {
      "cell_type": "code",
      "source": [
        "pneumonia_imgs = os.listdir(train_dir+\"/PNEUMONIA\") # get covid images from the directory\n",
        "normal_imgs = os.listdir(dataset+\"/NORMAL\") # get normal images from the directory"
      ],
      "metadata": {
        "id": "O4GImhwOUYib"
      },
      "id": "O4GImhwOUYib",
      "execution_count": 15,
      "outputs": []
    },
    {
      "cell_type": "markdown",
      "id": "9484bf8c",
      "metadata": {
        "id": "9484bf8c"
      },
      "source": [
        "### Compare the Pneumonia and Normal X-Ray Images"
      ]
    },
    {
      "cell_type": "code",
      "execution_count": 16,
      "id": "10635de3",
      "metadata": {
        "id": "10635de3"
      },
      "outputs": [],
      "source": [
        "import skimage\n",
        "from skimage.transform import rescale, resize, downscale_local_mean"
      ]
    },
    {
      "cell_type": "code",
      "source": [
        "import cv2"
      ],
      "metadata": {
        "id": "YCRaRdMZQA8c"
      },
      "id": "YCRaRdMZQA8c",
      "execution_count": 17,
      "outputs": []
    },
    {
      "cell_type": "code",
      "execution_count": null,
      "id": "0c534c76",
      "metadata": {
        "id": "0c534c76"
      },
      "outputs": [],
      "source": [
        "\n",
        "def image_plotter(num):\n",
        "    '''this function gets the pneumonia and normal image and concentanate them to observe the difference'''\n",
        "    normal = cv2.imread(dataset+'NORMAL//'+normal_imgs[num]) # get the normal image from the normal images\n",
        "    normal = resize(normal, output_shape=(150, 150, 3)) # resize the image\n",
        "    pneumonia = cv2.imread(dataset+'PNEUMONIA//'+pneumonia_imgs[num]) # get the pneumonia image from the normal images\n",
        "    pneumonia = resize(pneumonia, (150, 150, 3), mode = 'reflect') # resize the image\n",
        "    pair = np.concatenate((normal, pneumonia), axis = 1)\n",
        "    print(\"Normal Chest vs Pneumonia Chest X-Ray\")\n",
        "    plt.figure(figsize=(10,5))\n",
        "    plt.imshow(pair)\n",
        "    plt.show()\n",
        "\n",
        "for i in range(0,5):\n",
        "    image_plotter(i)"
      ]
    },
    {
      "cell_type": "code",
      "execution_count": 19,
      "id": "23e0e93f",
      "metadata": {
        "id": "23e0e93f"
      },
      "outputs": [],
      "source": [
        "# convert the two classes into a dataframe\n",
        "df = pd.DataFrame(np.concatenate([[0] * len(normal_train_imgs), [1] * len(pneumonia_train_imgs)]), columns = [\"class\"])"
      ]
    },
    {
      "cell_type": "code",
      "execution_count": 20,
      "id": "a164dae0",
      "metadata": {
        "id": "a164dae0",
        "colab": {
          "base_uri": "https://localhost:8080/",
          "height": 352
        },
        "outputId": "f89b1960-5b09-4cb7-c510-f2592cf9bf20"
      },
      "outputs": [
        {
          "output_type": "stream",
          "name": "stderr",
          "text": [
            "/usr/local/lib/python3.7/dist-packages/seaborn/_decorators.py:43: FutureWarning: Pass the following variable as a keyword arg: x. From version 0.12, the only valid positional argument will be `data`, and passing other arguments without an explicit keyword will result in an error or misinterpretation.\n",
            "  FutureWarning\n"
          ]
        },
        {
          "output_type": "execute_result",
          "data": {
            "text/plain": [
              "<matplotlib.axes._subplots.AxesSubplot at 0x7f60549600d0>"
            ]
          },
          "metadata": {},
          "execution_count": 20
        },
        {
          "output_type": "display_data",
          "data": {
            "image/png": "[encoded data removed]",
            "text/plain": [
              "<Figure size 432x288 with 1 Axes>"
            ]
          },
          "metadata": {
            "needs_background": "light"
          }
        }
      ],
      "source": [
        "import seaborn as sns\n",
        "# display the classes in a countplot\n",
        "sns.countplot(df['class'],data=df)"
      ]
    },
    {
      "cell_type": "markdown",
      "id": "d425e516",
      "metadata": {
        "id": "d425e516"
      },
      "source": [
        "### Data Augmentation"
      ]
    },
    {
      "cell_type": "code",
      "execution_count": 21,
      "id": "abf125ea",
      "metadata": {
        "id": "abf125ea"
      },
      "outputs": [],
      "source": [
        "train_datagen = ImageDataGenerator(rescale = 1/225,\n",
        "                                  shear_range = 10,\n",
        "                                   zoom_range = 0.2,\n",
        "                                   horizontal_flip = True,\n",
        "                                   width_shift_range = 0.2,\n",
        "                                   fill_mode = 'nearest'\n",
        "                                  )"
      ]
    },
    {
      "cell_type": "code",
      "execution_count": 22,
      "id": "6abe84ae",
      "metadata": {
        "id": "6abe84ae"
      },
      "outputs": [],
      "source": [
        "val_datagen = ImageDataGenerator(rescale = 1/225)"
      ]
    },
    {
      "cell_type": "markdown",
      "id": "3cb198a2",
      "metadata": {
        "id": "3cb198a2"
      },
      "source": [
        "### Model Building"
      ]
    },
    {
      "cell_type": "code",
      "execution_count": 23,
      "id": "cf437b1a",
      "metadata": {
        "id": "cf437b1a",
        "colab": {
          "base_uri": "https://localhost:8080/"
        },
        "outputId": "b604ebc3-f9bf-49be-addc-5e6f78f97cd7"
      },
      "outputs": [
        {
          "output_type": "stream",
          "name": "stdout",
          "text": [
            "Downloading data from https://storage.googleapis.com/tensorflow/keras-applications/vgg16/vgg16_weights_tf_dim_ordering_tf_kernels_notop.h5\n",
            "58892288/58889256 [==============================] - 1s 0us/step\n",
            "58900480/58889256 [==============================] - 1s 0us/step\n",
            "compiling Stats\n"
          ]
        }
      ],
      "source": [
        "''' VGG16 Model '''\n",
        "base_model = VGG16(include_top = False, weights = 'imagenet')# base model\n",
        "'''Freezing layers'''\n",
        "for layer in base_model.layers:\n",
        "    layer.trainable = False\n",
        "\n",
        "head_model = base_model.output # head model, whatever the output is from the base model, it is gonna connect with the new head model\n",
        "\n",
        "'''GlobalAveragePooling Layer'''\n",
        "head_model = keras.layers.GlobalAveragePooling2D()(head_model)\n",
        "head_model = keras.layers.Dense(64, activation = 'relu')(head_model)\n",
        "\n",
        "'''Classification layer'''\n",
        "head_model = Dense(1, activation='sigmoid')(head_model) \n",
        "\n",
        "'''final model'''\n",
        "model = keras.Model(base_model.input, outputs= head_model)\n",
        "\n",
        "Learning_Rate = 0.1\n",
        "lr_schedule = tf.keras.optimizers.schedules.ExponentialDecay(Learning_Rate, decay_steps = 100000, decay_rate = 0.96, staircase = True)\n",
        "\n",
        "'''Compile the model'''\n",
        "model.compile(loss = 'binary_crossentropy', optimizer = tf.keras.optimizers.RMSprop(lr_schedule), metrics = ['accuracy'])\n",
        "print(\"compiling Stats\")"
      ]
    },
    {
      "cell_type": "code",
      "execution_count": 24,
      "id": "3ca0fd0e",
      "metadata": {
        "id": "3ca0fd0e",
        "colab": {
          "base_uri": "https://localhost:8080/"
        },
        "outputId": "cb0eb0a3-298e-4030-9567-4088ac730b2c"
      },
      "outputs": [
        {
          "output_type": "stream",
          "name": "stdout",
          "text": [
            "Model: \"model\"\n",
            "_________________________________________________________________\n",
            " Layer (type)                Output Shape              Param #   \n",
            "=================================================================\n",
            " input_1 (InputLayer)        [(None, None, None, 3)]   0         \n",
            "                                                                 \n",
            " block1_conv1 (Conv2D)       (None, None, None, 64)    1792      \n",
            "                                                                 \n",
            " block1_conv2 (Conv2D)       (None, None, None, 64)    36928     \n",
            "                                                                 \n",
            " block1_pool (MaxPooling2D)  (None, None, None, 64)    0         \n",
            "                                                                 \n",
            " block2_conv1 (Conv2D)       (None, None, None, 128)   73856     \n",
            "                                                                 \n",
            " block2_conv2 (Conv2D)       (None, None, None, 128)   147584    \n",
            "                                                                 \n",
            " block2_pool (MaxPooling2D)  (None, None, None, 128)   0         \n",
            "                                                                 \n",
            " block3_conv1 (Conv2D)       (None, None, None, 256)   295168    \n",
            "                                                                 \n",
            " block3_conv2 (Conv2D)       (None, None, None, 256)   590080    \n",
            "                                                                 \n",
            " block3_conv3 (Conv2D)       (None, None, None, 256)   590080    \n",
            "                                                                 \n",
            " block3_pool (MaxPooling2D)  (None, None, None, 256)   0         \n",
            "                                                                 \n",
            " block4_conv1 (Conv2D)       (None, None, None, 512)   1180160   \n",
            "                                                                 \n",
            " block4_conv2 (Conv2D)       (None, None, None, 512)   2359808   \n",
            "                                                                 \n",
            " block4_conv3 (Conv2D)       (None, None, None, 512)   2359808   \n",
            "                                                                 \n",
            " block4_pool (MaxPooling2D)  (None, None, None, 512)   0         \n",
            "                                                                 \n",
            " block5_conv1 (Conv2D)       (None, None, None, 512)   2359808   \n",
            "                                                                 \n",
            " block5_conv2 (Conv2D)       (None, None, None, 512)   2359808   \n",
            "                                                                 \n",
            " block5_conv3 (Conv2D)       (None, None, None, 512)   2359808   \n",
            "                                                                 \n",
            " block5_pool (MaxPooling2D)  (None, None, None, 512)   0         \n",
            "                                                                 \n",
            " global_average_pooling2d (G  (None, 512)              0         \n",
            " lobalAveragePooling2D)                                          \n",
            "                                                                 \n",
            " dense (Dense)               (None, 64)                32832     \n",
            "                                                                 \n",
            " dense_1 (Dense)             (None, 1)                 65        \n",
            "                                                                 \n",
            "=================================================================\n",
            "Total params: 14,747,585\n",
            "Trainable params: 32,897\n",
            "Non-trainable params: 14,714,688\n",
            "_________________________________________________________________\n"
          ]
        }
      ],
      "source": [
        "# a look on how is the model \n",
        "model.summary()"
      ]
    },
    {
      "cell_type": "code",
      "execution_count": 25,
      "id": "70856103",
      "metadata": {
        "id": "70856103",
        "colab": {
          "base_uri": "https://localhost:8080/"
        },
        "outputId": "b09d0275-d9f6-4527-eea6-2858a2e5ec06"
      },
      "outputs": [
        {
          "output_type": "stream",
          "name": "stdout",
          "text": [
            "Found 5216 images belonging to 2 classes.\n",
            "Found 16 images belonging to 2 classes.\n",
            "Found 624 images belonging to 2 classes.\n"
          ]
        }
      ],
      "source": [
        "'''getting all the required flows from directory for training'''\n",
        "train_ds = train_datagen.flow_from_directory(train_dir, target_size = (150, 150), batch_size=16, class_mode = 'binary')\n",
        "val_ds = val_datagen.flow_from_directory(val_dir, target_size = (150, 150), batch_size = 8, class_mode = 'binary')\n",
        "test_ds = val_datagen.flow_from_directory(test_dir, target_size = (150, 150), batch_size = 32, class_mode = 'binary')"
      ]
    },
    {
      "cell_type": "code",
      "execution_count": 26,
      "id": "15d48b68",
      "metadata": {
        "id": "15d48b68",
        "colab": {
          "base_uri": "https://localhost:8080/"
        },
        "outputId": "12190cee-0295-4d29-d2e0-dd85437b3ebe"
      },
      "outputs": [
        {
          "output_type": "stream",
          "name": "stdout",
          "text": [
            "Epoch 1/20\n",
            "100/100 [==============================] - 41s 297ms/step - loss: 1.9250 - accuracy: 0.7650 - val_loss: 0.4375 - val_accuracy: 0.7500\n",
            "Epoch 2/20\n",
            "100/100 [==============================] - 28s 279ms/step - loss: 0.4491 - accuracy: 0.8419 - val_loss: 0.1930 - val_accuracy: 0.8750\n",
            "Epoch 3/20\n",
            "100/100 [==============================] - 30s 300ms/step - loss: 0.3075 - accuracy: 0.8819 - val_loss: 0.5615 - val_accuracy: 0.8125\n",
            "Epoch 4/20\n",
            "100/100 [==============================] - 28s 280ms/step - loss: 0.3545 - accuracy: 0.8775 - val_loss: 0.2265 - val_accuracy: 0.9375\n",
            "Epoch 5/20\n",
            "100/100 [==============================] - 29s 294ms/step - loss: 0.2826 - accuracy: 0.8900 - val_loss: 0.5322 - val_accuracy: 0.8125\n",
            "Epoch 6/20\n",
            "100/100 [==============================] - 36s 361ms/step - loss: 0.2762 - accuracy: 0.9019 - val_loss: 0.5798 - val_accuracy: 0.8125\n",
            "Epoch 7/20\n",
            "100/100 [==============================] - 28s 284ms/step - loss: 0.2750 - accuracy: 0.9069 - val_loss: 0.3632 - val_accuracy: 0.8750\n",
            "Epoch 8/20\n",
            "100/100 [==============================] - 28s 283ms/step - loss: 0.2795 - accuracy: 0.9006 - val_loss: 0.5458 - val_accuracy: 0.8125\n",
            "Epoch 9/20\n",
            "100/100 [==============================] - 28s 277ms/step - loss: 0.2559 - accuracy: 0.9044 - val_loss: 0.8846 - val_accuracy: 0.7500\n",
            "Epoch 10/20\n",
            "100/100 [==============================] - 29s 290ms/step - loss: 0.2647 - accuracy: 0.9031 - val_loss: 0.3572 - val_accuracy: 0.8750\n",
            "Epoch 11/20\n",
            "100/100 [==============================] - 29s 288ms/step - loss: 0.2646 - accuracy: 0.9137 - val_loss: 0.2758 - val_accuracy: 0.8125\n",
            "Epoch 12/20\n",
            "100/100 [==============================] - 28s 277ms/step - loss: 0.2598 - accuracy: 0.9056 - val_loss: 0.6756 - val_accuracy: 0.8125\n",
            "Epoch 13/20\n",
            "100/100 [==============================] - 28s 279ms/step - loss: 0.2242 - accuracy: 0.9187 - val_loss: 0.7728 - val_accuracy: 0.6875\n",
            "Epoch 14/20\n",
            "100/100 [==============================] - 28s 281ms/step - loss: 0.2422 - accuracy: 0.9106 - val_loss: 0.4827 - val_accuracy: 0.8125\n",
            "Epoch 15/20\n",
            "100/100 [==============================] - 27s 274ms/step - loss: 0.2867 - accuracy: 0.9038 - val_loss: 0.1514 - val_accuracy: 0.9375\n",
            "Epoch 16/20\n",
            "100/100 [==============================] - 28s 279ms/step - loss: 0.2240 - accuracy: 0.9212 - val_loss: 1.2790 - val_accuracy: 0.6875\n",
            "Epoch 17/20\n",
            "100/100 [==============================] - 28s 281ms/step - loss: 0.2403 - accuracy: 0.9112 - val_loss: 0.2597 - val_accuracy: 0.8750\n",
            "Epoch 18/20\n",
            "100/100 [==============================] - 27s 273ms/step - loss: 0.2617 - accuracy: 0.9194 - val_loss: 0.1523 - val_accuracy: 0.8750\n",
            "Epoch 19/20\n",
            "100/100 [==============================] - 28s 282ms/step - loss: 0.2163 - accuracy: 0.9331 - val_loss: 0.4256 - val_accuracy: 0.8750\n",
            "Epoch 20/20\n",
            "100/100 [==============================] - 28s 280ms/step - loss: 0.2403 - accuracy: 0.9156 - val_loss: 0.1726 - val_accuracy: 0.9375\n"
          ]
        }
      ],
      "source": [
        "'''training'''\n",
        "history = model.fit(train_ds, steps_per_epoch = 100, validation_data = val_ds, epochs = 20)"
      ]
    },
    {
      "cell_type": "code",
      "execution_count": 27,
      "id": "93bad7c1",
      "metadata": {
        "id": "93bad7c1",
        "colab": {
          "base_uri": "https://localhost:8080/"
        },
        "outputId": "87f9ea29-5547-4368-9b5d-034e68b96c56"
      },
      "outputs": [
        {
          "output_type": "stream",
          "name": "stderr",
          "text": [
            "/usr/local/lib/python3.7/dist-packages/ipykernel_launcher.py:2: UserWarning: `Model.evaluate_generator` is deprecated and will be removed in a future version. Please use `Model.evaluate`, which supports generators.\n",
            "  \n"
          ]
        },
        {
          "output_type": "stream",
          "name": "stdout",
          "text": [
            "WARNING:tensorflow:Your input ran out of data; interrupting training. Make sure that your dataset or generator can generate at least `steps_per_epoch * epochs` batches (in this case, 624 batches). You may need to use the repeat() function when building your dataset.\n"
          ]
        }
      ],
      "source": [
        "'''evaluating model'''\n",
        "accuracy = model.evaluate_generator(test_ds, 624)[1]"
      ]
    },
    {
      "cell_type": "code",
      "execution_count": 28,
      "id": "04143fd7",
      "metadata": {
        "id": "04143fd7",
        "colab": {
          "base_uri": "https://localhost:8080/"
        },
        "outputId": "ef2a342a-db99-49d9-a3be-8de01ccb22d8"
      },
      "outputs": [
        {
          "output_type": "execute_result",
          "data": {
            "text/plain": [
              "0.8108974099159241"
            ]
          },
          "metadata": {},
          "execution_count": 28
        }
      ],
      "source": [
        "accuracy"
      ]
    },
    {
      "cell_type": "code",
      "execution_count": null,
      "id": "87800a35",
      "metadata": {
        "id": "87800a35"
      },
      "outputs": [],
      "source": [
        "'''unfreezing layers'''\n",
        "for layer in base_model.layers:\n",
        "    layer.trainable = True"
      ]
    },
    {
      "cell_type": "code",
      "execution_count": null,
      "id": "d296d4a7",
      "metadata": {
        "id": "d296d4a7",
        "colab": {
          "base_uri": "https://localhost:8080/"
        },
        "outputId": "fbb447b2-861e-405f-fea6-1b68fb2a0e67"
      },
      "outputs": [
        {
          "output_type": "stream",
          "name": "stdout",
          "text": [
            "compiling Stats\n"
          ]
        }
      ],
      "source": [
        "'''fine tuning the model for better perfomance'''\n",
        "learning_rate = 1e-5\n",
        "lr_schedule = tf.keras.optimizers.schedules.ExponentialDecay(Learning_Rate, decay_steps = 100000, decay_rate = 0.96, staircase = True)\n",
        "'''Compile the model'''\n",
        "model.compile(optimizer = tf.keras.optimizers.RMSprop(lr_schedule), loss = keras.losses.BinaryCrossentropy(from_logits = True),\n",
        "              metrics = [keras.metrics.BinaryAccuracy()])\n",
        "print(\"compiling Stats\")"
      ]
    },
    {
      "cell_type": "code",
      "execution_count": null,
      "id": "50b6bb66",
      "metadata": {
        "id": "50b6bb66"
      },
      "outputs": [],
      "source": [
        "'''training'''\n",
        "history = model.fit(train_ds, steps_per_epoch = 50, validation_data = val_ds, epochs = 100)"
      ]
    },
    {
      "cell_type": "code",
      "execution_count": null,
      "id": "b09d29a5",
      "metadata": {
        "id": "b09d29a5",
        "colab": {
          "base_uri": "https://localhost:8080/"
        },
        "outputId": "d8b3dd42-fa54-491e-ccd0-fe131570136f"
      },
      "outputs": [
        {
          "output_type": "stream",
          "name": "stderr",
          "text": [
            "/usr/local/lib/python3.7/dist-packages/ipykernel_launcher.py:2: UserWarning: `Model.evaluate_generator` is deprecated and will be removed in a future version. Please use `Model.evaluate`, which supports generators.\n",
            "  \n"
          ]
        },
        {
          "output_type": "stream",
          "name": "stdout",
          "text": [
            "WARNING:tensorflow:Your input ran out of data; interrupting training. Make sure that your dataset or generator can generate at least `steps_per_epoch * epochs` batches (in this case, 624 batches). You may need to use the repeat() function when building your dataset.\n"
          ]
        }
      ],
      "source": [
        "'''evaluating model'''\n",
        "accuracy = model.evaluate_generator(test_ds, 624)[1]"
      ]
    },
    {
      "cell_type": "code",
      "execution_count": null,
      "id": "79889061",
      "metadata": {
        "id": "79889061",
        "colab": {
          "base_uri": "https://localhost:8080/"
        },
        "outputId": "9957d3db-620e-4ea3-8491-3b89049e636a"
      },
      "outputs": [
        {
          "output_type": "execute_result",
          "data": {
            "text/plain": [
              "0.625"
            ]
          },
          "metadata": {},
          "execution_count": 45
        }
      ],
      "source": [
        "accuracy"
      ]
    },
    {
      "cell_type": "markdown",
      "source": [
        "### Model Evaluation"
      ],
      "metadata": {
        "id": "q_4wVdPTtooj"
      },
      "id": "q_4wVdPTtooj"
    },
    {
      "cell_type": "code",
      "execution_count": 29,
      "id": "0cf03cef",
      "metadata": {
        "id": "0cf03cef",
        "colab": {
          "base_uri": "https://localhost:8080/",
          "height": 303
        },
        "outputId": "8c459819-d721-4dc0-f36f-bf351d1ecdde"
      },
      "outputs": [
        {
          "output_type": "display_data",
          "data": {
            "image/png": "[encoded data removed]",
            "text/plain": [
              "<Figure size 1080x720 with 2 Axes>"
            ]
          },
          "metadata": {
            "needs_background": "light"
          }
        }
      ],
      "source": [
        "'''training accuracy & validation graphs'''\n",
        "plt.figure(figsize = (15,10))\n",
        "plt.subplot(2, 2, 1)\n",
        "plt.plot(history.history['accuracy'], label = 'Training Accuracy')\n",
        "plt.plot(history.history['val_accuracy'], label = 'Validation Accuracy')\n",
        "plt.legend()\n",
        "plt.title(\"Training vs validation accuracy\")\n",
        "\n",
        "''' Training Loss and Validation Loss graph '''\n",
        "plt.subplot(2, 2, 2)\n",
        "plt.plot(history.history['loss'], label = 'Training loss')\n",
        "plt.plot(history.history['val_loss'], label = 'Validation loss')\n",
        "plt.legend()\n",
        "plt.title(\"Training vs validation loss\")\n",
        "\n",
        "plt.show()"
      ]
    },
    {
      "cell_type": "code",
      "source": [
        "l = 6\n",
        "w = 5\n",
        "fig, axes = plt.subplots(l, w, figsize = (12, 12))\n",
        "axes = axes.ravel()\n",
        "y_pred = model.predict(X_test, batch_size = 85)\n",
        "for i in np.arange(0, l*w):\n",
        "    axes[i].imshow(X_test[i])\n",
        "    axes[i].set_title('Prediction = {}\\n True ={}'.format(y_pred.argmax(axis=1)[i], y_test.argmax(axis=1)[i]))\n",
        "    axes[i].axis('off')\n",
        "    \n",
        "plt.subplots_adjust(wspace=1, hspace = 1)"
      ],
      "metadata": {
        "id": "pd19Xd_xbqRu"
      },
      "id": "pd19Xd_xbqRu",
      "execution_count": null,
      "outputs": []
    },
    {
      "cell_type": "markdown",
      "source": [
        "### Save and Load Model"
      ],
      "metadata": {
        "id": "HcUJSr-vaoI7"
      },
      "id": "HcUJSr-vaoI7"
    },
    {
      "cell_type": "code",
      "source": [
        "tf.keras.models.save_model(model,'pneumonia_model.hdf5')"
      ],
      "metadata": {
        "id": "YIyZDmq8Lyf6"
      },
      "id": "YIyZDmq8Lyf6",
      "execution_count": 31,
      "outputs": []
    },
    {
      "cell_type": "code",
      "source": [
        "import tensorflow as tf\n",
        "from keras.preprocessing import image\n",
        "model = tf.keras.models.load_model('/content/pneumonia_model.hdf5')\n",
        "from keras.applications.vgg16 import preprocess_input"
      ],
      "metadata": {
        "id": "OMIaiccPak2u"
      },
      "id": "OMIaiccPak2u",
      "execution_count": 34,
      "outputs": []
    },
    {
      "cell_type": "code",
      "source": [
        "# take a random image and do the prediction\n",
        "img = image.load_img(r'/content/chest_xray/test/NORMAL/IM-0073-0001.jpeg',target_size=(224, 224))\n",
        "img_plot = plt.imshow(img)"
      ],
      "metadata": {
        "id": "Zo_VWf8ualAI",
        "colab": {
          "base_uri": "https://localhost:8080/",
          "height": 269
        },
        "outputId": "1155ead9-7c8f-4408-a7bc-2ff6618d7c1f"
      },
      "id": "Zo_VWf8ualAI",
      "execution_count": 52,
      "outputs": [
        {
          "output_type": "display_data",
          "data": {
            "image/png": "[encoded data removed]",
            "text/plain": [
              "<Figure size 432x288 with 1 Axes>"
            ]
          },
          "metadata": {
            "needs_background": "light"
          }
        }
      ]
    },
    {
      "cell_type": "code",
      "source": [
        "# convert the image into an array\n",
        "X = image.img_to_array(img)\n",
        "X = np.expand_dims(X, axis=0)"
      ],
      "metadata": {
        "id": "2tkyU9B_alEl"
      },
      "id": "2tkyU9B_alEl",
      "execution_count": 53,
      "outputs": []
    },
    {
      "cell_type": "code",
      "source": [
        "# proprocess the image\n",
        "img_data = preprocess_input(X)"
      ],
      "metadata": {
        "id": "CsCMLaG7bOiZ"
      },
      "id": "CsCMLaG7bOiZ",
      "execution_count": 54,
      "outputs": []
    },
    {
      "cell_type": "code",
      "source": [
        "classes  = model.predict(img_data)\n",
        "new_pred = np.argmax(classes, axis=1)\n",
        "if new_pred==[1]:\n",
        "    print(\"Prediction: Normal\")\n",
        "else:\n",
        "    print(\"Prediction: Pneumonia\")"
      ],
      "metadata": {
        "id": "iwmJpPgubOma",
        "colab": {
          "base_uri": "https://localhost:8080/"
        },
        "outputId": "0e4b4db1-6980-4553-b3f8-5edbf61b4a82"
      },
      "id": "iwmJpPgubOma",
      "execution_count": 55,
      "outputs": [
        {
          "output_type": "stream",
          "name": "stdout",
          "text": [
            "Prediction: Pneumonia\n"
          ]
        }
      ]
    },
    {
      "cell_type": "code",
      "source": [
        ""
      ],
      "metadata": {
        "id": "Y5uN9oYPbPir"
      },
      "id": "Y5uN9oYPbPir",
      "execution_count": null,
      "outputs": []
    },
    {
      "cell_type": "code",
      "source": [
        ""
      ],
      "metadata": {
        "id": "hC-IHI30alI0"
      },
      "id": "hC-IHI30alI0",
      "execution_count": null,
      "outputs": []
    },
    {
      "cell_type": "code",
      "execution_count": null,
      "id": "96e73485",
      "metadata": {
        "id": "96e73485"
      },
      "outputs": [],
      "source": [
        ""
      ]
    },
    {
      "cell_type": "code",
      "execution_count": null,
      "id": "9f5fdb78",
      "metadata": {
        "id": "9f5fdb78"
      },
      "outputs": [],
      "source": [
        ""
      ]
    }
  ],
  "metadata": {
    "kernelspec": {
      "display_name": "Python 3",
      "language": "python",
      "name": "python3"
    },
    "language_info": {
      "codemirror_mode": {
        "name": "ipython",
        "version": 3
      },
      "file_extension": ".py",
      "mimetype": "text/x-python",
      "name": "python",
      "nbconvert_exporter": "python",
      "pygments_lexer": "ipython3",
      "version": "3.8.8"
    },
    "colab": {
      "name": "Pneumonia Detection.ipynb",
      "provenance": []
    },
    "accelerator": "GPU"
  },
  "nbformat": 4,
  "nbformat_minor": 5
}