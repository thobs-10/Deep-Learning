{
 "cells": [
  {
   "cell_type": "markdown",
   "id": "2bf3a64d",
   "metadata": {},
   "source": [
    "### Import Libraries"
   ]
  },
  {
   "cell_type": "code",
   "execution_count": 1,
   "id": "9da6868f",
   "metadata": {},
   "outputs": [],
   "source": [
    "import glob\n",
    "import os\n",
    "import numpy as np\n",
    "import pandas as pd\n",
    "import matplotlib.pyplot as plt\n",
    "%matplotlib inline\n",
    "\n",
    "import tensorflow as tf\n",
    "from tensorflow import keras\n",
    "from keras.applications import vgg16\n",
    "from tensorflow.keras.preprocessing.image import ImageDataGenerator\n"
   ]
  },
  {
   "cell_type": "markdown",
   "id": "c0086f1d",
   "metadata": {},
   "source": [
    "### Dataset Directory"
   ]
  },
  {
   "cell_type": "code",
   "execution_count": null,
   "id": "3c08fb9d",
   "metadata": {},
   "outputs": [],
   "source": [
    "data_directory = 'dataset/chest_xray/'"
   ]
  },
  {
   "cell_type": "code",
   "execution_count": null,
   "id": "7bebbd18",
   "metadata": {},
   "outputs": [],
   "source": [
    "# find the training path directory for images\n",
    "train_dir = os.path.join(data_directory, \"train\") # get the path of training images in train folder\n",
    "\n",
    "# find the test path directory for images\n",
    "test_dir = os.path.join(data_directory, \"test\")# get the path of test images in test folder\n",
    "\n",
    "# find the validdation path directory for images\n",
    "val_dir = os.path.join(data_directory, \"val\")# get the path of validation images in val folder"
   ]
  },
  {
   "cell_type": "markdown",
   "id": "2159cff0",
   "metadata": {},
   "source": [
    "### Classes of Images"
   ]
  },
  {
   "cell_type": "code",
   "execution_count": null,
   "id": "8a9a3b81",
   "metadata": {},
   "outputs": [],
   "source": [
    "''' PNEUMONIA images '''\n",
    "pneumonia_train_imgs = glob.glob(train_dir + \"/PNEUMONIA/*.jpeg\")\n",
    "''' NORMAL  images '''\n",
    "normal_train_imgs = glob.glob(train_dir + \"/NORMAL/*.jpeg\")"
   ]
  },
  {
   "cell_type": "markdown",
   "id": "9484bf8c",
   "metadata": {},
   "source": [
    "### Compare the Pneumonia and Normal X-Ray Images"
   ]
  },
  {
   "cell_type": "code",
   "execution_count": null,
   "id": "10635de3",
   "metadata": {},
   "outputs": [],
   "source": [
    "import skimage\n",
    "from skimage.transform import rescale, resize, downscale_local_mean"
   ]
  },
  {
   "cell_type": "code",
   "execution_count": null,
   "id": "0c534c76",
   "metadata": {},
   "outputs": [],
   "source": [
    "def image_plotter(num):\n",
    "    '''this function gets the pneumonia and normal image and concentanate them to observe the difference'''\n",
    "    normal = cv2.imread(dataset+'Normal//'+normal_train_imgs[num]) # get the normal image from the normal images\n",
    "    normal = resize(normal, (150, 150, 3)) # resize the image\n",
    "    pneumonia = cv2.imread(dataset+'Covid//'+pneumonia_train_imgs[num]) # get the pneumonia image from the normal images\n",
    "    pneumonia = resize(pneumonia, (150, 150, 3), mode = 'reflect') # resize the image\n",
    "    pair = np.concatenate((normal, corona_virus), axis = 1)\n",
    "    print(\"Normal Chest vs Pneumonia Chest X-Ray\")\n",
    "    plt.figure(figsize=(10,5))\n",
    "    plt.imshow(pair)\n",
    "    plt.show()\n",
    "\n",
    "for i in range(0,5):\n",
    "    image_plotter(i)"
   ]
  },
  {
   "cell_type": "code",
   "execution_count": null,
   "id": "23e0e93f",
   "metadata": {},
   "outputs": [],
   "source": [
    "# convert the two classes into a dataframe\n",
    "df = pd.Dataframe(np.concatenate([[0] * len(normal_train_imgs), [1] * len(pneumonia_train_imgs)]), columns = [\"class\"])"
   ]
  },
  {
   "cell_type": "code",
   "execution_count": null,
   "id": "a164dae0",
   "metadata": {},
   "outputs": [],
   "source": [
    "# display the classes in a countplot\n",
    "sns.countplot(df['class'],data=df)"
   ]
  },
  {
   "cell_type": "markdown",
   "id": "d425e516",
   "metadata": {},
   "source": [
    "### Data Augmentation"
   ]
  },
  {
   "cell_type": "code",
   "execution_count": null,
   "id": "abf125ea",
   "metadata": {},
   "outputs": [],
   "source": [
    "train_datagen = ImageDataGenerator(rescale = 1/225,\n",
    "                                  shear_range = 10,\n",
    "                                   zoom_range = 0.2,\n",
    "                                   horizontal_flip = True,\n",
    "                                   width_shift_range = 0.2,\n",
    "                                   fill_mode = 'nearest'\n",
    "                                  )"
   ]
  },
  {
   "cell_type": "code",
   "execution_count": null,
   "id": "6abe84ae",
   "metadata": {},
   "outputs": [],
   "source": [
    "val_datagen = ImageDataGenerator(rescale = 1/225)"
   ]
  },
  {
   "cell_type": "markdown",
   "id": "3cb198a2",
   "metadata": {},
   "source": [
    "### Model Building"
   ]
  },
  {
   "cell_type": "code",
   "execution_count": null,
   "id": "cf437b1a",
   "metadata": {},
   "outputs": [],
   "source": [
    "''' VGG16 Model '''\n",
    "base_model = VGG16(include_top = False, weights = 'imagenet')# base model\n",
    "'''Freezing layers'''\n",
    "for layer in base_model.layers:\n",
    "    layer.trainable = False\n",
    "\n",
    "head_model = base_model.output # head model, whatever the output is from the base model, it is gonna connect with the new head model\n",
    "\n",
    "'''GlobalAveragePooling Layer'''\n",
    "head_model = keras.layers.GlobalAveragePooling2D()(head_model)\n",
    "head_model = keras.layers.Dense(64, activation = 'relu')(head_model)\n",
    "\n",
    "'''Classification layer'''\n",
    "head_model = Dense(1, activation='sigmoid')(head_model) \n",
    "\n",
    "'''final model'''\n",
    "model = keras.Model(base_model.input, outputs= head_model)\n",
    "\n",
    "Learning_Rate = 0.1\n",
    "lr_schedule = tf.keras.optimizers.schedules.ExponentialDecay(Learning_Rate, decay_steps = 100000, decat_rate = 0.96, staircase = True)\n",
    "\n",
    "'''Compile the model'''\n",
    "model.compile(loss = 'binary_crossentropy', optimizer = tf.keras.optimizers.RMSprop(lr_schedule), metrics = ['accuracy'])\n",
    "print(\"compiling Stats\")"
   ]
  },
  {
   "cell_type": "code",
   "execution_count": null,
   "id": "3ca0fd0e",
   "metadata": {},
   "outputs": [],
   "source": []
  },
  {
   "cell_type": "code",
   "execution_count": null,
   "id": "70856103",
   "metadata": {},
   "outputs": [],
   "source": []
  },
  {
   "cell_type": "code",
   "execution_count": null,
   "id": "b09d29a5",
   "metadata": {},
   "outputs": [],
   "source": []
  },
  {
   "cell_type": "code",
   "execution_count": null,
   "id": "79889061",
   "metadata": {},
   "outputs": [],
   "source": []
  },
  {
   "cell_type": "code",
   "execution_count": null,
   "id": "0cf03cef",
   "metadata": {},
   "outputs": [],
   "source": []
  },
  {
   "cell_type": "code",
   "execution_count": null,
   "id": "96e73485",
   "metadata": {},
   "outputs": [],
   "source": []
  },
  {
   "cell_type": "code",
   "execution_count": null,
   "id": "9f5fdb78",
   "metadata": {},
   "outputs": [],
   "source": []
  }
 ],
 "metadata": {
  "kernelspec": {
   "display_name": "Python 3",
   "language": "python",
   "name": "python3"
  },
  "language_info": {
   "codemirror_mode": {
    "name": "ipython",
    "version": 3
   },
   "file_extension": ".py",
   "mimetype": "text/x-python",
   "name": "python",
   "nbconvert_exporter": "python",
   "pygments_lexer": "ipython3",
   "version": "3.8.8"
  }
 },
 "nbformat": 4,
 "nbformat_minor": 5
}
