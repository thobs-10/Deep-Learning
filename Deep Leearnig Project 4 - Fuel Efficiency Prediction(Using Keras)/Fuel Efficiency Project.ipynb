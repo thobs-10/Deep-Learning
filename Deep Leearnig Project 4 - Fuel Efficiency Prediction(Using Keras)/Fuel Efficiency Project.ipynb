{
 "cells": [
  {
   "cell_type": "markdown",
   "id": "130e8242",
   "metadata": {},
   "source": [
    "# Fuel Efficiency End-to-End Project"
   ]
  },
  {
   "cell_type": "markdown",
   "id": "b0ecf5a5",
   "metadata": {},
   "source": [
    "### Import Libraries"
   ]
  },
  {
   "cell_type": "code",
   "execution_count": null,
   "id": "aa9bda4a",
   "metadata": {},
   "outputs": [],
   "source": [
    "import pandas as pd\n",
    "import numpy as np\n",
    "import matplotlib.pyplot as plt\n",
    "import seaborn as sns\n",
    "\n",
    "import tensorflow as tf\n",
    "from tensorflow import keras\n",
    "import tensorflow.keras\n",
    "from tensorflow.keras import layers\n",
    "from tensorflow.keras.layers import Dense, Dropout\n",
    "from tensorflow.keras.models import Sequential\n",
    "\n",
    "import sklearn\n",
    "import pickle\n",
    "from sklearn.metrics import mean_sqaure_error, mean_absolute_error, r2_score\n"
   ]
  },
  {
   "cell_type": "code",
   "execution_count": null,
   "id": "c6c9c9ac",
   "metadata": {},
   "outputs": [],
   "source": [
    "# check the GPU\n",
    "physical_devices = tf.config.list_physical_devices('GPU')\n",
    "tf.config.experimental.set_memory_growth(physical_devices[0], True)"
   ]
  },
  {
   "cell_type": "code",
   "execution_count": null,
   "id": "5747670a",
   "metadata": {},
   "outputs": [],
   "source": [
    "# get the dataset\n",
    "df = pd.read_csv('', na_values = '?')\n",
    "df.head()"
   ]
  },
  {
   "cell_type": "markdown",
   "id": "a747f5e6",
   "metadata": {},
   "source": [
    "### EDA"
   ]
  },
  {
   "cell_type": "code",
   "execution_count": null,
   "id": "d234f845",
   "metadata": {},
   "outputs": [],
   "source": [
    "# check information about the dataframe\n",
    "df.info()"
   ]
  },
  {
   "cell_type": "code",
   "execution_count": null,
   "id": "afd3b09d",
   "metadata": {},
   "outputs": [],
   "source": [
    "# check for null values\n",
    "df.isnull().sum()"
   ]
  },
  {
   "cell_type": "code",
   "execution_count": null,
   "id": "f10ef23d",
   "metadata": {},
   "outputs": [],
   "source": [
    "# if there are few values short, drop those rows\n",
    "df.dropna(inplace = True)"
   ]
  },
  {
   "cell_type": "code",
   "execution_count": null,
   "id": "00b11f5a",
   "metadata": {},
   "outputs": [],
   "source": [
    "# check if the null values are still available\n",
    "df.isnull().sum()"
   ]
  },
  {
   "cell_type": "code",
   "execution_count": null,
   "id": "3ca99cd5",
   "metadata": {},
   "outputs": [],
   "source": [
    "# describe the dataframe\n",
    "df.describe()"
   ]
  },
  {
   "cell_type": "code",
   "execution_count": null,
   "id": "b2b6d05a",
   "metadata": {},
   "outputs": [],
   "source": [
    "# get the names of all the types of cars in the ddataset\n",
    "df['car name'].unique()"
   ]
  },
  {
   "cell_type": "code",
   "execution_count": null,
   "id": "61b22d97",
   "metadata": {},
   "outputs": [],
   "source": [
    "# drop the car name column\n",
    "df.drop(['car name'], axis =1, inplace = True)"
   ]
  },
  {
   "cell_type": "code",
   "execution_count": null,
   "id": "b8dacec0",
   "metadata": {},
   "outputs": [],
   "source": [
    "# seperate dataset into x and target feature\n",
    "X = df.drop(\"mpg\", axis = 1)\n",
    "y = df['mpg']"
   ]
  },
  {
   "cell_type": "code",
   "execution_count": null,
   "id": "a086d574",
   "metadata": {},
   "outputs": [],
   "source": [
    "# split the x and y into train and test datasets\n",
    "from sklearn.model_selection import train_test_split\n",
    "X_train, X_test, y_train, y_test = train_test_split(X, y, test_size = 0.2, random_state = 42)"
   ]
  },
  {
   "cell_type": "code",
   "execution_count": null,
   "id": "2784dc8b",
   "metadata": {},
   "outputs": [],
   "source": [
    "# standardise the datasets for train and test sets\n",
    "from sklearn.preprocessing import StandardScaler\n",
    "sc = StandardScaler()"
   ]
  },
  {
   "cell_type": "code",
   "execution_count": null,
   "id": "02e3751a",
   "metadata": {},
   "outputs": [],
   "source": [
    "X_train_sc = sc.fit_transform(X_train)\n",
    "X_test_sc = sc.transform(X_test)"
   ]
  },
  {
   "cell_type": "code",
   "execution_count": null,
   "id": "385ec437",
   "metadata": {},
   "outputs": [],
   "source": [
    "# save the standard scaler \n",
    "pickle.dump(sc, open(r'\\scaler.pkl','wb'))"
   ]
  },
  {
   "cell_type": "code",
   "execution_count": null,
   "id": "d060d914",
   "metadata": {},
   "outputs": [],
   "source": [
    "# chckk the keys needed for X matrix of features\n",
    "X_train.keys()"
   ]
  },
  {
   "cell_type": "code",
   "execution_count": null,
   "id": "64fdf85e",
   "metadata": {},
   "outputs": [],
   "source": [
    "len(X_train.keys())"
   ]
  },
  {
   "cell_type": "markdown",
   "id": "ff66786e",
   "metadata": {},
   "source": [
    "### Initialize ANN"
   ]
  },
  {
   "cell_type": "code",
   "execution_count": null,
   "id": "6ff653a4",
   "metadata": {},
   "outputs": [],
   "source": [
    "model = Sequential()\n",
    "\n",
    "# input layer and first hidden layer\n",
    "model.add(Dense(units = 64, activation = 'relu', input_shape = [len(X_train.keys())]))\n",
    "# second hidden layer\n",
    "model.add(Dense(units = 64, activation = 'relu'))\n",
    "model.add(Dense(units = 64, activation = 'relu'))\n",
    "model.add(Dense(units = 64, activation = 'relu'))\n",
    "# output layer \n",
    "model.add(Dense(units = 1))"
   ]
  },
  {
   "cell_type": "code",
   "execution_count": null,
   "id": "92b2d8d1",
   "metadata": {},
   "outputs": [],
   "source": [
    "# Compile the ANN\n",
    "model.compile(loss = 'mean_square_error',\n",
    "             optimizer = 'Adam',\n",
    "             metrics = ['mean_sqaure_error', 'mean_absolute_error'])"
   ]
  },
  {
   "cell_type": "code",
   "execution_count": null,
   "id": "6075ed3e",
   "metadata": {},
   "outputs": [],
   "source": [
    "model.summary()"
   ]
  },
  {
   "cell_type": "code",
   "execution_count": null,
   "id": "9d423bf2",
   "metadata": {},
   "outputs": [],
   "source": [
    "# train the ann model\n",
    "model_history = model.fit(X_train_sc, y_train, batch_size = 100, epochs = 1000)"
   ]
  },
  {
   "cell_type": "code",
   "execution_count": null,
   "id": "3ed86255",
   "metadata": {},
   "outputs": [],
   "source": []
  },
  {
   "cell_type": "code",
   "execution_count": null,
   "id": "368a79b8",
   "metadata": {},
   "outputs": [],
   "source": [
    "# save the model\n",
    "model.save(r\"\\fuel_model.h5\")"
   ]
  },
  {
   "cell_type": "markdown",
   "id": "9bfe5845",
   "metadata": {},
   "source": [
    "### Model Evaluation\n"
   ]
  },
  {
   "cell_type": "code",
   "execution_count": null,
   "id": "c3b7f405",
   "metadata": {},
   "outputs": [],
   "source": [
    "prediction=model.predict(X_test_std)"
   ]
  },
  {
   "cell_type": "code",
   "execution_count": null,
   "id": "35a17e93",
   "metadata": {},
   "outputs": [],
   "source": [
    "# lets plot the figure of predictions vs real values\n",
    "plt.scatter(y_test, prediction)\n",
    "plt.xlabel('True Values [MPG]')\n",
    "plt.ylabel('Predictions [MPG]')\n",
    "plt.axis('equal')\n",
    "plt.axis('square')\n",
    "plt.xlim([0,plt.xlim()[1]])\n",
    "plt.ylim([0,plt.ylim()[1]])\n",
    "_ = plt.plot([-100, 100], [-100, 100])"
   ]
  },
  {
   "cell_type": "code",
   "execution_count": null,
   "id": "6dfb6e4c",
   "metadata": {},
   "outputs": [],
   "source": [
    "# check the metrics\n",
    "rmse=np.sqrt(mean_squared_error(Y_test,prediction))\n",
    "\n",
    "print('RMSE: ',rmse)\n",
    "\n",
    "print('R_square:', r2_score(Y_test,prediction))"
   ]
  },
  {
   "cell_type": "markdown",
   "id": "680d7c5d",
   "metadata": {},
   "source": [
    "### Prediction"
   ]
  },
  {
   "cell_type": "code",
   "execution_count": null,
   "id": "7eb64286",
   "metadata": {},
   "outputs": [],
   "source": [
    "input_data_1=[[4,97,100,5000,14.5,70,3]]\n",
    "input_data_1=sc.transform(input_data_1)\n",
    "input_data_1"
   ]
  },
  {
   "cell_type": "code",
   "execution_count": null,
   "id": "a7774efe",
   "metadata": {},
   "outputs": [],
   "source": [
    "y_pred_1 = model.predict(input_data_1)"
   ]
  },
  {
   "cell_type": "code",
   "execution_count": null,
   "id": "0ca9230c",
   "metadata": {},
   "outputs": [],
   "source": [
    "y_pred_1"
   ]
  },
  {
   "cell_type": "code",
   "execution_count": null,
   "id": "ad9eb27b",
   "metadata": {},
   "outputs": [],
   "source": []
  },
  {
   "cell_type": "code",
   "execution_count": null,
   "id": "c12c52d2",
   "metadata": {},
   "outputs": [],
   "source": [
    "input_data_2=[[8,307,130,3504,12,70,1]]\n",
    "input_data_2=sc.transform(input_data_2)\n",
    "input_data_2"
   ]
  },
  {
   "cell_type": "code",
   "execution_count": null,
   "id": "a188df85",
   "metadata": {},
   "outputs": [],
   "source": [
    "y_pred_2 = model.predict(input_data_2)"
   ]
  },
  {
   "cell_type": "code",
   "execution_count": null,
   "id": "ddeaa76e",
   "metadata": {},
   "outputs": [],
   "source": [
    "y_pred_2"
   ]
  },
  {
   "cell_type": "code",
   "execution_count": null,
   "id": "c6ba3d85",
   "metadata": {},
   "outputs": [],
   "source": []
  },
  {
   "cell_type": "code",
   "execution_count": null,
   "id": "74f23d78",
   "metadata": {},
   "outputs": [],
   "source": []
  },
  {
   "cell_type": "code",
   "execution_count": null,
   "id": "2f0fed36",
   "metadata": {},
   "outputs": [],
   "source": []
  }
 ],
 "metadata": {
  "kernelspec": {
   "display_name": "Python 3 (ipykernel)",
   "language": "python",
   "name": "python3"
  },
  "language_info": {
   "codemirror_mode": {
    "name": "ipython",
    "version": 3
   },
   "file_extension": ".py",
   "mimetype": "text/x-python",
   "name": "python",
   "nbconvert_exporter": "python",
   "pygments_lexer": "ipython3",
   "version": "3.9.7"
  }
 },
 "nbformat": 4,
 "nbformat_minor": 5
}
